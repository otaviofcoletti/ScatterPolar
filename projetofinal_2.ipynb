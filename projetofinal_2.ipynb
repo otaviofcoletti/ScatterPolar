{
  "nbformat": 4,
  "nbformat_minor": 0,
  "metadata": {
    "colab": {
      "provenance": []
    },
    "kernelspec": {
      "name": "python3",
      "display_name": "Python 3"
    },
    "language_info": {
      "name": "python"
    },
    "widgets": {
      "application/vnd.jupyter.widget-state+json": {
        "1eb25298df324a93b8d9a4404e6d4da2": {
          "model_module": "@jupyter-widgets/controls",
          "model_name": "VBoxModel",
          "model_module_version": "1.5.0",
          "state": {
            "_dom_classes": [
              "widget-interact"
            ],
            "_model_module": "@jupyter-widgets/controls",
            "_model_module_version": "1.5.0",
            "_model_name": "VBoxModel",
            "_view_count": null,
            "_view_module": "@jupyter-widgets/controls",
            "_view_module_version": "1.5.0",
            "_view_name": "VBoxView",
            "box_style": "",
            "children": [
              "IPY_MODEL_af680265c8e34cd490ac554b1ca5fef3",
              "IPY_MODEL_5b94e6d8afe04162a8e324070e631b2b",
              "IPY_MODEL_e4aaef90ce2744a18badb64a62f1287f"
            ],
            "layout": "IPY_MODEL_90bdb300dd05406cadeb5c797853a572"
          }
        },
        "af680265c8e34cd490ac554b1ca5fef3": {
          "model_module": "@jupyter-widgets/controls",
          "model_name": "DropdownModel",
          "model_module_version": "1.5.0",
          "state": {
            "_dom_classes": [],
            "_model_module": "@jupyter-widgets/controls",
            "_model_module_version": "1.5.0",
            "_model_name": "DropdownModel",
            "_options_labels": [
              "Hierarquia por Artista",
              "Hierarquia por Gênero Musical"
            ],
            "_view_count": null,
            "_view_module": "@jupyter-widgets/controls",
            "_view_module_version": "1.5.0",
            "_view_name": "DropdownView",
            "description": "Selecione:",
            "description_tooltip": null,
            "disabled": false,
            "index": 0,
            "layout": "IPY_MODEL_c3f08c55e6b14c93a275358043dae990",
            "style": "IPY_MODEL_58af1928efa54af28a81bb6d5763ced5"
          }
        },
        "5b94e6d8afe04162a8e324070e631b2b": {
          "model_module": "@jupyter-widgets/controls",
          "model_name": "IntSliderModel",
          "model_module_version": "1.5.0",
          "state": {
            "_dom_classes": [],
            "_model_module": "@jupyter-widgets/controls",
            "_model_module_version": "1.5.0",
            "_model_name": "IntSliderModel",
            "_view_count": null,
            "_view_module": "@jupyter-widgets/controls",
            "_view_module_version": "1.5.0",
            "_view_name": "IntSliderView",
            "continuous_update": true,
            "description": "N° músicas",
            "description_tooltip": null,
            "disabled": false,
            "layout": "IPY_MODEL_e5d2819b4bbe4216a73013d243999c10",
            "max": 100,
            "min": 5,
            "orientation": "horizontal",
            "readout": true,
            "readout_format": "d",
            "step": 5,
            "style": "IPY_MODEL_a44d7c65ced0427693c951f520acdc67",
            "value": 25
          }
        },
        "e4aaef90ce2744a18badb64a62f1287f": {
          "model_module": "@jupyter-widgets/output",
          "model_name": "OutputModel",
          "model_module_version": "1.0.0",
          "state": {
            "_dom_classes": [],
            "_model_module": "@jupyter-widgets/output",
            "_model_module_version": "1.0.0",
            "_model_name": "OutputModel",
            "_view_count": null,
            "_view_module": "@jupyter-widgets/output",
            "_view_module_version": "1.0.0",
            "_view_name": "OutputView",
            "layout": "IPY_MODEL_223851c69e8b44e8a0ba34080a950aca",
            "msg_id": "",
            "outputs": [
              {
                "output_type": "display_data",
                "data": {
                  "text/html": "<html>\n<head><meta charset=\"utf-8\" /></head>\n<body>\n    <div>            <script src=\"https://cdnjs.cloudflare.com/ajax/libs/mathjax/2.7.5/MathJax.js?config=TeX-AMS-MML_SVG\"></script><script type=\"text/javascript\">if (window.MathJax) {MathJax.Hub.Config({SVG: {font: \"STIX-Web\"}});}</script>                <script type=\"text/javascript\">window.PlotlyConfig = {MathJaxConfig: 'local'};</script>\n        <script src=\"https://cdn.plot.ly/plotly-2.8.3.min.js\"></script>                <div id=\"95682ead-5e18-47d0-a96c-fdb1afc626cf\" class=\"plotly-graph-div\" style=\"height:700px; width:900px;\"></div>            <script type=\"text/javascript\">                                    window.PLOTLYENV=window.PLOTLYENV || {};                                    if (document.getElementById(\"95682ead-5e18-47d0-a96c-fdb1afc626cf\")) {                    Plotly.newPlot(                        \"95682ead-5e18-47d0-a96c-fdb1afc626cf\",                        [{\"branchvalues\":\"total\",\"customdata\":[[1.0],[0.9500000000000001],[0.9500000000000001],[0.97],[0.98],[0.97],[0.93],[0.94],[0.9500000000000001],[0.97],[0.9500000000000001],[0.9500000000000001],[0.96],[0.94],[0.96],[0.9500000000000001],[0.97],[0.97],[0.96],[0.94],[0.93],[0.97],[0.99],[0.99],[0.9500000000000001],[0.96],[0.9804761904761905],[0.97],[0.9500000000000001],[0.93],[0.94],[0.96],[0.98],[0.97],[0.96],[0.94],[0.9500000000000001],[0.97],[0.93],[0.9500000000000001],[0.9500000000000001],[0.9500000000000001],[0.9500000000000001],[0.97],[0.9801020408163265],[0.97],[0.94]],\"domain\":{\"x\":[0.0,1.0],\"y\":[0.0,1.0]},\"hovertemplate\":\"<b>%{hovertext}</b><br><br>labels=%{label}<br>popularity_sum=%{value}<br>parent=%{parent}<br>id=%{id}<br>popularity=%{color}<extra></extra>\",\"hovertext\":[\"Ariana Grande\",\"Paulo Londra\",\"Ozuna\",\"Pedro Cap\\u00f3\",\"Daddy Yankee\",\"Sam Smith\",\"Mau y Ricky\",\"Calvin Harris\",\"Meek Mill\",\"Marshmello\",\"Panic! At The Disco\",\"Bad Bunny\",\"J. Cole\",\"Travis Scott\",\"Anuel Aa\",\"Lady Gaga\",\"Post Malone\",\"Ava Max\",\"DJ Snake\",\"Khalid\",\"Blueface\",\"Halsey\",\"Post Malone\",\"Ariana Grande\",\"Ariana Grande\",\"Anuel Aa\",\"Ariana Grande\",\"Ava Max\",\"Bad Bunny\",\"Blueface\",\"Calvin Harris\",\"DJ Snake\",\"Daddy Yankee\",\"Halsey\",\"J. Cole\",\"Khalid\",\"Lady Gaga\",\"Marshmello\",\"Mau y Ricky\",\"Meek Mill\",\"Ozuna\",\"Panic! At The Disco\",\"Paulo Londra\",\"Pedro Cap\\u00f3\",\"Post Malone\",\"Sam Smith\",\"Travis Scott\"],\"ids\":[\"Ariana Grande/7 rings\",\"Paulo Londra/Adan y Eva\",\"Ozuna/Baila Baila Baila\",\"Pedro Cap\\u00f3/Calma - Remix\",\"Daddy Yankee/Con Calma\",\"Sam Smith/Dancing With A Stranger (with Normani)\",\"Mau y Ricky/Desconocidos\",\"Calvin Harris/Giant (with Rag'n'Bone Man)\",\"Meek Mill/Going Bad (feat. Drake)\",\"Marshmello/Happier\",\"Panic! At The Disco/High Hopes\",\"Bad Bunny/MIA (feat. Drake)\",\"J. Cole/MIDDLE CHILD\",\"Travis Scott/SICKO MODE\",\"Anuel Aa/Secreto\",\"Lady Gaga/Shallow\",\"Post Malone/Sunflower - Spider-Man: Into the Spider-Verse\",\"Ava Max/Sweet but Psycho\",\"DJ Snake/Taki Taki (with Selena Gomez, Ozuna & Cardi B)\",\"Khalid/Talk\",\"Blueface/Thotiana\",\"Halsey/Without Me\",\"Post Malone/Wow.\",\"Ariana Grande/break up with your girlfriend, i'm bored\",\"Ariana Grande/thank u, next\",\"Anuel Aa\",\"Ariana Grande\",\"Ava Max\",\"Bad Bunny\",\"Blueface\",\"Calvin Harris\",\"DJ Snake\",\"Daddy Yankee\",\"Halsey\",\"J. Cole\",\"Khalid\",\"Lady Gaga\",\"Marshmello\",\"Mau y Ricky\",\"Meek Mill\",\"Ozuna\",\"Panic! At The Disco\",\"Paulo Londra\",\"Pedro Cap\\u00f3\",\"Post Malone\",\"Sam Smith\",\"Travis Scott\"],\"labels\":[\"7 rings\",\"Adan y Eva\",\"Baila Baila Baila\",\"Calma - Remix\",\"Con Calma\",\"Dancing With A Stranger (with Normani)\",\"Desconocidos\",\"Giant (with Rag'n'Bone Man)\",\"Going Bad (feat. Drake)\",\"Happier\",\"High Hopes\",\"MIA (feat. Drake)\",\"MIDDLE CHILD\",\"SICKO MODE\",\"Secreto\",\"Shallow\",\"Sunflower - Spider-Man: Into the Spider-Verse\",\"Sweet but Psycho\",\"Taki Taki (with Selena Gomez, Ozuna & Cardi B)\",\"Talk\",\"Thotiana\",\"Without Me\",\"Wow.\",\"break up with your girlfriend, i'm bored\",\"thank u, next\",\"Anuel Aa\",\"Ariana Grande\",\"Ava Max\",\"Bad Bunny\",\"Blueface\",\"Calvin Harris\",\"DJ Snake\",\"Daddy Yankee\",\"Halsey\",\"J. Cole\",\"Khalid\",\"Lady Gaga\",\"Marshmello\",\"Mau y Ricky\",\"Meek Mill\",\"Ozuna\",\"Panic! At The Disco\",\"Paulo Londra\",\"Pedro Cap\\u00f3\",\"Post Malone\",\"Sam Smith\",\"Travis Scott\"],\"marker\":{\"coloraxis\":\"coloraxis\",\"colors\":[1.0,0.9500000000000001,0.9500000000000001,0.97,0.98,0.97,0.93,0.94,0.9500000000000001,0.97,0.9500000000000001,0.9500000000000001,0.96,0.94,0.96,0.9500000000000001,0.97,0.97,0.96,0.94,0.93,0.97,0.99,0.99,0.9500000000000001,0.96,0.9804761904761905,0.97,0.9500000000000001,0.93,0.94,0.96,0.98,0.97,0.96,0.94,0.9500000000000001,0.97,0.93,0.9500000000000001,0.9500000000000001,0.9500000000000001,0.9500000000000001,0.97,0.9801020408163265,0.97,0.94]},\"name\":\"\",\"parents\":[\"Ariana Grande\",\"Paulo Londra\",\"Ozuna\",\"Pedro Cap\\u00f3\",\"Daddy Yankee\",\"Sam Smith\",\"Mau y Ricky\",\"Calvin Harris\",\"Meek Mill\",\"Marshmello\",\"Panic! At The Disco\",\"Bad Bunny\",\"J. Cole\",\"Travis Scott\",\"Anuel Aa\",\"Lady Gaga\",\"Post Malone\",\"Ava Max\",\"DJ Snake\",\"Khalid\",\"Blueface\",\"Halsey\",\"Post Malone\",\"Ariana Grande\",\"Ariana Grande\",\"\",\"\",\"\",\"\",\"\",\"\",\"\",\"\",\"\",\"\",\"\",\"\",\"\",\"\",\"\",\"\",\"\",\"\",\"\",\"\",\"\",\"\"],\"values\":[1.0,0.95,0.95,0.97,0.98,0.97,0.93,0.94,0.95,0.97,0.95,0.95,0.96,0.94,0.96,0.95,0.97,0.97,0.96,0.94,0.93,0.97,0.99,0.99,0.95,0.96,2.94,0.97,0.95,0.93,0.94,0.96,0.98,0.97,0.96,0.94,0.95,0.97,0.93,0.95,0.95,0.95,0.95,0.97,1.96,0.97,0.94],\"type\":\"treemap\",\"root\":{\"color\":\"lightgrey\"},\"legendgrouptitle\":{\"text\":\"M\\u00fasicas mais populares\"}}],                        {\"template\":{\"data\":{\"bar\":[{\"error_x\":{\"color\":\"#2a3f5f\"},\"error_y\":{\"color\":\"#2a3f5f\"},\"marker\":{\"line\":{\"color\":\"#E5ECF6\",\"width\":0.5},\"pattern\":{\"fillmode\":\"overlay\",\"size\":10,\"solidity\":0.2}},\"type\":\"bar\"}],\"barpolar\":[{\"marker\":{\"line\":{\"color\":\"#E5ECF6\",\"width\":0.5},\"pattern\":{\"fillmode\":\"overlay\",\"size\":10,\"solidity\":0.2}},\"type\":\"barpolar\"}],\"carpet\":[{\"aaxis\":{\"endlinecolor\":\"#2a3f5f\",\"gridcolor\":\"white\",\"linecolor\":\"white\",\"minorgridcolor\":\"white\",\"startlinecolor\":\"#2a3f5f\"},\"baxis\":{\"endlinecolor\":\"#2a3f5f\",\"gridcolor\":\"white\",\"linecolor\":\"white\",\"minorgridcolor\":\"white\",\"startlinecolor\":\"#2a3f5f\"},\"type\":\"carpet\"}],\"choropleth\":[{\"colorbar\":{\"outlinewidth\":0,\"ticks\":\"\"},\"type\":\"choropleth\"}],\"contour\":[{\"colorbar\":{\"outlinewidth\":0,\"ticks\":\"\"},\"colorscale\":[[0.0,\"#0d0887\"],[0.1111111111111111,\"#46039f\"],[0.2222222222222222,\"#7201a8\"],[0.3333333333333333,\"#9c179e\"],[0.4444444444444444,\"#bd3786\"],[0.5555555555555556,\"#d8576b\"],[0.6666666666666666,\"#ed7953\"],[0.7777777777777778,\"#fb9f3a\"],[0.8888888888888888,\"#fdca26\"],[1.0,\"#f0f921\"]],\"type\":\"contour\"}],\"contourcarpet\":[{\"colorbar\":{\"outlinewidth\":0,\"ticks\":\"\"},\"type\":\"contourcarpet\"}],\"heatmap\":[{\"colorbar\":{\"outlinewidth\":0,\"ticks\":\"\"},\"colorscale\":[[0.0,\"#0d0887\"],[0.1111111111111111,\"#46039f\"],[0.2222222222222222,\"#7201a8\"],[0.3333333333333333,\"#9c179e\"],[0.4444444444444444,\"#bd3786\"],[0.5555555555555556,\"#d8576b\"],[0.6666666666666666,\"#ed7953\"],[0.7777777777777778,\"#fb9f3a\"],[0.8888888888888888,\"#fdca26\"],[1.0,\"#f0f921\"]],\"type\":\"heatmap\"}],\"heatmapgl\":[{\"colorbar\":{\"outlinewidth\":0,\"ticks\":\"\"},\"colorscale\":[[0.0,\"#0d0887\"],[0.1111111111111111,\"#46039f\"],[0.2222222222222222,\"#7201a8\"],[0.3333333333333333,\"#9c179e\"],[0.4444444444444444,\"#bd3786\"],[0.5555555555555556,\"#d8576b\"],[0.6666666666666666,\"#ed7953\"],[0.7777777777777778,\"#fb9f3a\"],[0.8888888888888888,\"#fdca26\"],[1.0,\"#f0f921\"]],\"type\":\"heatmapgl\"}],\"histogram\":[{\"marker\":{\"pattern\":{\"fillmode\":\"overlay\",\"size\":10,\"solidity\":0.2}},\"type\":\"histogram\"}],\"histogram2d\":[{\"colorbar\":{\"outlinewidth\":0,\"ticks\":\"\"},\"colorscale\":[[0.0,\"#0d0887\"],[0.1111111111111111,\"#46039f\"],[0.2222222222222222,\"#7201a8\"],[0.3333333333333333,\"#9c179e\"],[0.4444444444444444,\"#bd3786\"],[0.5555555555555556,\"#d8576b\"],[0.6666666666666666,\"#ed7953\"],[0.7777777777777778,\"#fb9f3a\"],[0.8888888888888888,\"#fdca26\"],[1.0,\"#f0f921\"]],\"type\":\"histogram2d\"}],\"histogram2dcontour\":[{\"colorbar\":{\"outlinewidth\":0,\"ticks\":\"\"},\"colorscale\":[[0.0,\"#0d0887\"],[0.1111111111111111,\"#46039f\"],[0.2222222222222222,\"#7201a8\"],[0.3333333333333333,\"#9c179e\"],[0.4444444444444444,\"#bd3786\"],[0.5555555555555556,\"#d8576b\"],[0.6666666666666666,\"#ed7953\"],[0.7777777777777778,\"#fb9f3a\"],[0.8888888888888888,\"#fdca26\"],[1.0,\"#f0f921\"]],\"type\":\"histogram2dcontour\"}],\"mesh3d\":[{\"colorbar\":{\"outlinewidth\":0,\"ticks\":\"\"},\"type\":\"mesh3d\"}],\"parcoords\":[{\"line\":{\"colorbar\":{\"outlinewidth\":0,\"ticks\":\"\"}},\"type\":\"parcoords\"}],\"pie\":[{\"automargin\":true,\"type\":\"pie\"}],\"scatter\":[{\"marker\":{\"colorbar\":{\"outlinewidth\":0,\"ticks\":\"\"}},\"type\":\"scatter\"}],\"scatter3d\":[{\"line\":{\"colorbar\":{\"outlinewidth\":0,\"ticks\":\"\"}},\"marker\":{\"colorbar\":{\"outlinewidth\":0,\"ticks\":\"\"}},\"type\":\"scatter3d\"}],\"scattercarpet\":[{\"marker\":{\"colorbar\":{\"outlinewidth\":0,\"ticks\":\"\"}},\"type\":\"scattercarpet\"}],\"scattergeo\":[{\"marker\":{\"colorbar\":{\"outlinewidth\":0,\"ticks\":\"\"}},\"type\":\"scattergeo\"}],\"scattergl\":[{\"marker\":{\"colorbar\":{\"outlinewidth\":0,\"ticks\":\"\"}},\"type\":\"scattergl\"}],\"scattermapbox\":[{\"marker\":{\"colorbar\":{\"outlinewidth\":0,\"ticks\":\"\"}},\"type\":\"scattermapbox\"}],\"scatterpolar\":[{\"marker\":{\"colorbar\":{\"outlinewidth\":0,\"ticks\":\"\"}},\"type\":\"scatterpolar\"}],\"scatterpolargl\":[{\"marker\":{\"colorbar\":{\"outlinewidth\":0,\"ticks\":\"\"}},\"type\":\"scatterpolargl\"}],\"scatterternary\":[{\"marker\":{\"colorbar\":{\"outlinewidth\":0,\"ticks\":\"\"}},\"type\":\"scatterternary\"}],\"surface\":[{\"colorbar\":{\"outlinewidth\":0,\"ticks\":\"\"},\"colorscale\":[[0.0,\"#0d0887\"],[0.1111111111111111,\"#46039f\"],[0.2222222222222222,\"#7201a8\"],[0.3333333333333333,\"#9c179e\"],[0.4444444444444444,\"#bd3786\"],[0.5555555555555556,\"#d8576b\"],[0.6666666666666666,\"#ed7953\"],[0.7777777777777778,\"#fb9f3a\"],[0.8888888888888888,\"#fdca26\"],[1.0,\"#f0f921\"]],\"type\":\"surface\"}],\"table\":[{\"cells\":{\"fill\":{\"color\":\"#EBF0F8\"},\"line\":{\"color\":\"white\"}},\"header\":{\"fill\":{\"color\":\"#C8D4E3\"},\"line\":{\"color\":\"white\"}},\"type\":\"table\"}]},\"layout\":{\"annotationdefaults\":{\"arrowcolor\":\"#2a3f5f\",\"arrowhead\":0,\"arrowwidth\":1},\"autotypenumbers\":\"strict\",\"coloraxis\":{\"colorbar\":{\"outlinewidth\":0,\"ticks\":\"\"}},\"colorscale\":{\"diverging\":[[0,\"#8e0152\"],[0.1,\"#c51b7d\"],[0.2,\"#de77ae\"],[0.3,\"#f1b6da\"],[0.4,\"#fde0ef\"],[0.5,\"#f7f7f7\"],[0.6,\"#e6f5d0\"],[0.7,\"#b8e186\"],[0.8,\"#7fbc41\"],[0.9,\"#4d9221\"],[1,\"#276419\"]],\"sequential\":[[0.0,\"#0d0887\"],[0.1111111111111111,\"#46039f\"],[0.2222222222222222,\"#7201a8\"],[0.3333333333333333,\"#9c179e\"],[0.4444444444444444,\"#bd3786\"],[0.5555555555555556,\"#d8576b\"],[0.6666666666666666,\"#ed7953\"],[0.7777777777777778,\"#fb9f3a\"],[0.8888888888888888,\"#fdca26\"],[1.0,\"#f0f921\"]],\"sequentialminus\":[[0.0,\"#0d0887\"],[0.1111111111111111,\"#46039f\"],[0.2222222222222222,\"#7201a8\"],[0.3333333333333333,\"#9c179e\"],[0.4444444444444444,\"#bd3786\"],[0.5555555555555556,\"#d8576b\"],[0.6666666666666666,\"#ed7953\"],[0.7777777777777778,\"#fb9f3a\"],[0.8888888888888888,\"#fdca26\"],[1.0,\"#f0f921\"]]},\"colorway\":[\"#636efa\",\"#EF553B\",\"#00cc96\",\"#ab63fa\",\"#FFA15A\",\"#19d3f3\",\"#FF6692\",\"#B6E880\",\"#FF97FF\",\"#FECB52\"],\"font\":{\"color\":\"#2a3f5f\"},\"geo\":{\"bgcolor\":\"white\",\"lakecolor\":\"white\",\"landcolor\":\"#E5ECF6\",\"showlakes\":true,\"showland\":true,\"subunitcolor\":\"white\"},\"hoverlabel\":{\"align\":\"left\"},\"hovermode\":\"closest\",\"mapbox\":{\"style\":\"light\"},\"paper_bgcolor\":\"white\",\"plot_bgcolor\":\"#E5ECF6\",\"polar\":{\"angularaxis\":{\"gridcolor\":\"white\",\"linecolor\":\"white\",\"ticks\":\"\"},\"bgcolor\":\"#E5ECF6\",\"radialaxis\":{\"gridcolor\":\"white\",\"linecolor\":\"white\",\"ticks\":\"\"}},\"scene\":{\"xaxis\":{\"backgroundcolor\":\"#E5ECF6\",\"gridcolor\":\"white\",\"gridwidth\":2,\"linecolor\":\"white\",\"showbackground\":true,\"ticks\":\"\",\"zerolinecolor\":\"white\"},\"yaxis\":{\"backgroundcolor\":\"#E5ECF6\",\"gridcolor\":\"white\",\"gridwidth\":2,\"linecolor\":\"white\",\"showbackground\":true,\"ticks\":\"\",\"zerolinecolor\":\"white\"},\"zaxis\":{\"backgroundcolor\":\"#E5ECF6\",\"gridcolor\":\"white\",\"gridwidth\":2,\"linecolor\":\"white\",\"showbackground\":true,\"ticks\":\"\",\"zerolinecolor\":\"white\"}},\"shapedefaults\":{\"line\":{\"color\":\"#2a3f5f\"}},\"ternary\":{\"aaxis\":{\"gridcolor\":\"white\",\"linecolor\":\"white\",\"ticks\":\"\"},\"baxis\":{\"gridcolor\":\"white\",\"linecolor\":\"white\",\"ticks\":\"\"},\"bgcolor\":\"#E5ECF6\",\"caxis\":{\"gridcolor\":\"white\",\"linecolor\":\"white\",\"ticks\":\"\"}},\"title\":{\"x\":0.05},\"xaxis\":{\"automargin\":true,\"gridcolor\":\"white\",\"linecolor\":\"white\",\"ticks\":\"\",\"title\":{\"standoff\":15},\"zerolinecolor\":\"white\",\"zerolinewidth\":2},\"yaxis\":{\"automargin\":true,\"gridcolor\":\"white\",\"linecolor\":\"white\",\"ticks\":\"\",\"title\":{\"standoff\":15},\"zerolinecolor\":\"white\",\"zerolinewidth\":2}}},\"coloraxis\":{\"colorbar\":{\"title\":{\"text\":\"popularity\"}},\"colorscale\":[[0.0,\"#0d0887\"],[0.1111111111111111,\"#46039f\"],[0.2222222222222222,\"#7201a8\"],[0.3333333333333333,\"#9c179e\"],[0.4444444444444444,\"#bd3786\"],[0.5555555555555556,\"#d8576b\"],[0.6666666666666666,\"#ed7953\"],[0.7777777777777778,\"#fb9f3a\"],[0.8888888888888888,\"#fdca26\"],[1.0,\"#f0f921\"]]},\"legend\":{\"tracegroupgap\":0},\"title\":{\"text\":\"Hierarquia das popularidades entre artistas\"},\"height\":700,\"width\":900,\"margin\":{\"t\":50,\"l\":25,\"r\":25,\"b\":25},\"font\":{\"family\":\"Helvetica\",\"color\":\"black\"},\"xaxis\":{\"title\":{\"font\":{\"family\":\"Helvetica\"}}}},                        {\"responsive\": true}                    ).then(function(){\n                            \nvar gd = document.getElementById('95682ead-5e18-47d0-a96c-fdb1afc626cf');\nvar x = new MutationObserver(function (mutations, observer) {{\n        var display = window.getComputedStyle(gd).display;\n        if (!display || display === 'none') {{\n            console.log([gd, 'removed!']);\n            Plotly.purge(gd);\n            observer.disconnect();\n        }}\n}});\n\n// Listen for the removal of the full notebook cells\nvar notebookContainer = gd.closest('#notebook-container');\nif (notebookContainer) {{\n    x.observe(notebookContainer, {childList: true});\n}}\n\n// Listen for the clearing of the current output cell\nvar outputEl = gd.closest('.output');\nif (outputEl) {{\n    x.observe(outputEl, {childList: true});\n}}\n\n                        })                };                            </script>        </div>\n</body>\n</html>"
                },
                "metadata": {}
              }
            ]
          }
        },
        "90bdb300dd05406cadeb5c797853a572": {
          "model_module": "@jupyter-widgets/base",
          "model_name": "LayoutModel",
          "model_module_version": "1.2.0",
          "state": {
            "_model_module": "@jupyter-widgets/base",
            "_model_module_version": "1.2.0",
            "_model_name": "LayoutModel",
            "_view_count": null,
            "_view_module": "@jupyter-widgets/base",
            "_view_module_version": "1.2.0",
            "_view_name": "LayoutView",
            "align_content": null,
            "align_items": null,
            "align_self": null,
            "border": null,
            "bottom": null,
            "display": null,
            "flex": null,
            "flex_flow": null,
            "grid_area": null,
            "grid_auto_columns": null,
            "grid_auto_flow": null,
            "grid_auto_rows": null,
            "grid_column": null,
            "grid_gap": null,
            "grid_row": null,
            "grid_template_areas": null,
            "grid_template_columns": null,
            "grid_template_rows": null,
            "height": null,
            "justify_content": null,
            "justify_items": null,
            "left": null,
            "margin": null,
            "max_height": null,
            "max_width": null,
            "min_height": null,
            "min_width": null,
            "object_fit": null,
            "object_position": null,
            "order": null,
            "overflow": null,
            "overflow_x": null,
            "overflow_y": null,
            "padding": null,
            "right": null,
            "top": null,
            "visibility": null,
            "width": null
          }
        },
        "c3f08c55e6b14c93a275358043dae990": {
          "model_module": "@jupyter-widgets/base",
          "model_name": "LayoutModel",
          "model_module_version": "1.2.0",
          "state": {
            "_model_module": "@jupyter-widgets/base",
            "_model_module_version": "1.2.0",
            "_model_name": "LayoutModel",
            "_view_count": null,
            "_view_module": "@jupyter-widgets/base",
            "_view_module_version": "1.2.0",
            "_view_name": "LayoutView",
            "align_content": null,
            "align_items": null,
            "align_self": null,
            "border": null,
            "bottom": null,
            "display": null,
            "flex": null,
            "flex_flow": null,
            "grid_area": null,
            "grid_auto_columns": null,
            "grid_auto_flow": null,
            "grid_auto_rows": null,
            "grid_column": null,
            "grid_gap": null,
            "grid_row": null,
            "grid_template_areas": null,
            "grid_template_columns": null,
            "grid_template_rows": null,
            "height": null,
            "justify_content": null,
            "justify_items": null,
            "left": null,
            "margin": null,
            "max_height": null,
            "max_width": null,
            "min_height": null,
            "min_width": null,
            "object_fit": null,
            "object_position": null,
            "order": null,
            "overflow": null,
            "overflow_x": null,
            "overflow_y": null,
            "padding": null,
            "right": null,
            "top": null,
            "visibility": null,
            "width": null
          }
        },
        "58af1928efa54af28a81bb6d5763ced5": {
          "model_module": "@jupyter-widgets/controls",
          "model_name": "DescriptionStyleModel",
          "model_module_version": "1.5.0",
          "state": {
            "_model_module": "@jupyter-widgets/controls",
            "_model_module_version": "1.5.0",
            "_model_name": "DescriptionStyleModel",
            "_view_count": null,
            "_view_module": "@jupyter-widgets/base",
            "_view_module_version": "1.2.0",
            "_view_name": "StyleView",
            "description_width": ""
          }
        },
        "e5d2819b4bbe4216a73013d243999c10": {
          "model_module": "@jupyter-widgets/base",
          "model_name": "LayoutModel",
          "model_module_version": "1.2.0",
          "state": {
            "_model_module": "@jupyter-widgets/base",
            "_model_module_version": "1.2.0",
            "_model_name": "LayoutModel",
            "_view_count": null,
            "_view_module": "@jupyter-widgets/base",
            "_view_module_version": "1.2.0",
            "_view_name": "LayoutView",
            "align_content": null,
            "align_items": null,
            "align_self": null,
            "border": null,
            "bottom": null,
            "display": null,
            "flex": null,
            "flex_flow": null,
            "grid_area": null,
            "grid_auto_columns": null,
            "grid_auto_flow": null,
            "grid_auto_rows": null,
            "grid_column": null,
            "grid_gap": null,
            "grid_row": null,
            "grid_template_areas": null,
            "grid_template_columns": null,
            "grid_template_rows": null,
            "height": null,
            "justify_content": null,
            "justify_items": null,
            "left": null,
            "margin": null,
            "max_height": null,
            "max_width": null,
            "min_height": null,
            "min_width": null,
            "object_fit": null,
            "object_position": null,
            "order": null,
            "overflow": null,
            "overflow_x": null,
            "overflow_y": null,
            "padding": null,
            "right": null,
            "top": null,
            "visibility": null,
            "width": null
          }
        },
        "a44d7c65ced0427693c951f520acdc67": {
          "model_module": "@jupyter-widgets/controls",
          "model_name": "SliderStyleModel",
          "model_module_version": "1.5.0",
          "state": {
            "_model_module": "@jupyter-widgets/controls",
            "_model_module_version": "1.5.0",
            "_model_name": "SliderStyleModel",
            "_view_count": null,
            "_view_module": "@jupyter-widgets/base",
            "_view_module_version": "1.2.0",
            "_view_name": "StyleView",
            "description_width": "",
            "handle_color": null
          }
        },
        "223851c69e8b44e8a0ba34080a950aca": {
          "model_module": "@jupyter-widgets/base",
          "model_name": "LayoutModel",
          "model_module_version": "1.2.0",
          "state": {
            "_model_module": "@jupyter-widgets/base",
            "_model_module_version": "1.2.0",
            "_model_name": "LayoutModel",
            "_view_count": null,
            "_view_module": "@jupyter-widgets/base",
            "_view_module_version": "1.2.0",
            "_view_name": "LayoutView",
            "align_content": null,
            "align_items": null,
            "align_self": null,
            "border": null,
            "bottom": null,
            "display": null,
            "flex": null,
            "flex_flow": null,
            "grid_area": null,
            "grid_auto_columns": null,
            "grid_auto_flow": null,
            "grid_auto_rows": null,
            "grid_column": null,
            "grid_gap": null,
            "grid_row": null,
            "grid_template_areas": null,
            "grid_template_columns": null,
            "grid_template_rows": null,
            "height": null,
            "justify_content": null,
            "justify_items": null,
            "left": null,
            "margin": null,
            "max_height": null,
            "max_width": null,
            "min_height": null,
            "min_width": null,
            "object_fit": null,
            "object_position": null,
            "order": null,
            "overflow": null,
            "overflow_x": null,
            "overflow_y": null,
            "padding": null,
            "right": null,
            "top": null,
            "visibility": null,
            "width": null
          }
        }
      }
    }
  },
  "cells": [
    {
      "cell_type": "code",
      "execution_count": null,
      "metadata": {
        "id": "fkmcQ6CX1JUw"
      },
      "outputs": [],
      "source": []
    },
    {
      "cell_type": "markdown",
      "source": [
        "\n",
        "# Projeto 2 - SCC0252 (Visualização Computacional)\n",
        "\n",
        "\n",
        "*   Otávio Ferracioli Coletti - 11767796\n",
        "*   Fernando César Lopes Barbosa Filho - 10260559\n",
        "\n",
        "\\\\\n",
        "\n",
        "---"
      ],
      "metadata": {
        "id": "HMw6rO2PdUp9"
      }
    },
    {
      "cell_type": "code",
      "source": [
        "# Bibliotecas importadas\n",
        "import numpy as np\n",
        "import pandas as pd\n",
        "import seaborn as sns\n",
        "import plotly.express as px\n",
        "import ipywidgets as widgets\n",
        "from ipywidgets import Button, Layout\n",
        "from matplotlib.spines import rcParams\n",
        "import plotly.graph_objects as go\n",
        "import matplotlib.pyplot as plt\n",
        "from matplotlib import legend\n",
        "from pandas import Series\n",
        "import ipywidgets\n",
        "import random\n",
        "import plotly\n",
        "import io"
      ],
      "metadata": {
        "id": "fjz4DBFG-Zwa"
      },
      "execution_count": 1,
      "outputs": []
    },
    {
      "cell_type": "code",
      "source": [
        "# Conjunto de dados do Spotify\n",
        "url = 'https://raw.githubusercontent.com/otaviofcoletti/VIZCOMP/main/SpotifyFeatures(1).csv'\n",
        "df = pd.read_csv(url)"
      ],
      "metadata": {
        "id": "LzrmJrCo-tYO"
      },
      "execution_count": 2,
      "outputs": []
    },
    {
      "cell_type": "markdown",
      "source": [
        "## Heatmap\n",
        "\n",
        "Geramos um *heatmap* que exibe os valores de correlação entre os atributos de todas as músicas do Spotify.\n"
      ],
      "metadata": {
        "id": "T-EZV92Jrr85"
      }
    },
    {
      "cell_type": "code",
      "source": [
        "popular_music_rank = df.sort_values('popularity', ascending=False) "
      ],
      "metadata": {
        "id": "0T9xDSopHM0X"
      },
      "execution_count": 3,
      "outputs": []
    },
    {
      "cell_type": "code",
      "source": [
        "def heatmap_interactive(**ch_list):\n",
        "\n",
        "  categories = ['valence','acousticness','danceability','energy','liveness','speechiness','instrumentalness','loudness']\n",
        "  features = []\n",
        "\n",
        "  for i in categories:\n",
        "    if ch_list[i]:\n",
        "      features.append(i)\n",
        "\n",
        "  selection = df[features]\n",
        "  plt.figure(figsize=(15,10))\n",
        "  sns.heatmap(selection.corr(),annot=True,cmap=\"coolwarm\")\n",
        "  plt.title('Heatmap of Correlations')\n",
        "  plt.show()"
      ],
      "metadata": {
        "id": "jnrQzz9mwmWF"
      },
      "execution_count": 4,
      "outputs": []
    },
    {
      "cell_type": "code",
      "source": [
        "cb_list = {description: widgets.Checkbox(\n",
        "    value=random.choice([True, False]),\n",
        "    description=description,\n",
        "    disabled=False,\n",
        "    indent=False\n",
        ") for description in ['valence','acousticness','danceability','energy','liveness','speechiness','instrumentalness','loudness']}"
      ],
      "metadata": {
        "id": "RtwKObzERjcF"
      },
      "execution_count": 5,
      "outputs": []
    },
    {
      "cell_type": "markdown",
      "source": [
        "Selecione nos **checkboxes** as *features* nas quais se deseja comparar a correlação no **heatmap**:"
      ],
      "metadata": {
        "id": "6fbRk3q3NU2h"
      }
    },
    {
      "cell_type": "code",
      "source": [
        "#widgets.interactive(heatmap_interactive, **cb_list)"
      ],
      "metadata": {
        "id": "bo_eBQEAROoH"
      },
      "execution_count": 6,
      "outputs": []
    },
    {
      "cell_type": "markdown",
      "source": [
        "## Gráfico de Radar\n",
        "\n",
        "Nesse tipo de visualização o usuário poderá selecionar quantas músicas se deseja analisar entre as mais populares, quais as *features* a serem os eixos e a respectiva ordem entre elas."
      ],
      "metadata": {
        "id": "45xcyBRsQSHc"
      }
    },
    {
      "cell_type": "code",
      "source": [
        "cinza = \"#808080\"\n",
        "transparente = \"rgba(0,0,0,0)\"\n",
        "\n",
        "def radar_chart_2(number_of_music=1,**dd_list):\n",
        "\n",
        "  top5 = popular_music_rank[:number_of_music]\n",
        "\n",
        "  lista_features = ['Feature 1','Feature 2','Feature 3','Feature 4','Feature 5','Feature 6','Feature 7','Feature 8']\n",
        "  categories = ['valence','acousticness','danceability','energy','liveness','speechiness','instrumentalness','loudness']\n",
        "  top5 = top5[['valence','acousticness','danceability','energy','liveness','speechiness','instrumentalness','loudness','track_name','artist_name']]\n",
        "  fig = go.Figure()\n",
        "  features = []\n",
        "\n",
        "  for i in lista_features:\n",
        "\n",
        "    if dd_list[i] != \"Nenhum\":\n",
        "      features.append(dd_list[i])\n",
        "  \n",
        "\n",
        "  for i in range(0,number_of_music):\n",
        "\n",
        "    fig.add_trace(go.Scatterpolar(\n",
        "          r=list(top5.iloc[i]),\n",
        "          theta=features,\n",
        "          fill='toself',\n",
        "          name= top5.iloc[i]['track_name'],\n",
        "          legendgrouptitle_text=\"Músicas mais populares\"\n",
        "    ))\n",
        "\n",
        "\n",
        "  fig.update_layout(\n",
        "        font_color=cinza,\n",
        "        font_size=15,\n",
        "        autosize=True,\n",
        "        height=400,\n",
        "        margin=dict(l=40, r=40, t=25, b=25),\n",
        "        paper_bgcolor=transparente,\n",
        "        polar=dict(\n",
        "            bgcolor=transparente,\n",
        "            radialaxis=dict(\n",
        "                range=[0, 1],\n",
        "                linecolor=cinza,\n",
        "                gridcolor=cinza,\n",
        "                tickcolor=cinza,\n",
        "            ),\n",
        "            angularaxis=dict(\n",
        "                rotation=120,\n",
        "                direction=\"clockwise\",\n",
        "                linecolor=cinza,\n",
        "                tickcolor=cinza,\n",
        "                gridcolor=cinza,\n",
        "            ),\n",
        "        ),\n",
        "    )\n",
        "  \n",
        "  fig.show()"
      ],
      "metadata": {
        "id": "jHMqtHmhdg5P"
      },
      "execution_count": 7,
      "outputs": []
    },
    {
      "cell_type": "code",
      "source": [
        "lista_features = ['Feature 1','Feature 2','Feature 3','Feature 4','Feature 5','Feature 6','Feature 7','Feature 8']"
      ],
      "metadata": {
        "id": "6rRjSMJ65t_V"
      },
      "execution_count": 8,
      "outputs": []
    },
    {
      "cell_type": "code",
      "source": [
        "charac=['valence','acousticness','danceability','energy','liveness','speechiness','instrumentalness','loudness','Nenhum']"
      ],
      "metadata": {
        "id": "jrHx61jO5t_X"
      },
      "execution_count": 9,
      "outputs": []
    },
    {
      "cell_type": "code",
      "source": [
        "index_list = [0,1,2,3,4,5,6,7,8]\n",
        "random.seed(117)\n",
        "\n",
        "dd_radar = {descri: widgets.Dropdown(\n",
        "    options=charac,\n",
        "    value=charac[index],\n",
        "    description=descri,\n",
        "    disabled=False,\n",
        ") for index,descri in zip(index_list,lista_features) }"
      ],
      "metadata": {
        "id": "XqHEtSqY5t_a"
      },
      "execution_count": 10,
      "outputs": []
    },
    {
      "cell_type": "markdown",
      "source": [
        "Através do gráfico de radar interativo podemos escolher quais as *features* musicais de interesse na análise, bem como escolher quantas e quais músicas comparar clicando na legenda associada. O usuário poderá escolher até 8 features, mas recomendamos entre 5 e 6 para facilitar a visualização."
      ],
      "metadata": {
        "id": "LQN4hs5bzaBh"
      }
    },
    {
      "cell_type": "code",
      "source": [
        "#ipywidgets.interactive(radar_chart_2, number_of_music=ipywidgets.IntSlider(min=1,max=15,step=1,value=5),**dd_radar)"
      ],
      "metadata": {
        "id": "bmeCxLOT6sP2"
      },
      "execution_count": 11,
      "outputs": []
    },
    {
      "cell_type": "markdown",
      "source": [
        "Podemos ver que, das músicas mais populares, todas possuem um *loudness* alto e uma *danceability* significativamente alta também. Notamos que, por exemplo, a acústica dessas músicas dificilmente ultrapassa 5. \\\\\n",
        "\n",
        "Portanto, para ter sucesso é preciso fazer barulho, fazer o pessoal dançar e usar bastante da eletrônica na sua música! \\\\\n"
      ],
      "metadata": {
        "id": "jND_2nqCz24j"
      }
    },
    {
      "cell_type": "markdown",
      "source": [
        "## Treemap\n",
        "\n",
        "Esse recurso nos permite visualizar a hierarquia de popularidade entre as diferentes músicas e artistas."
      ],
      "metadata": {
        "id": "rbDGwyVM5ZiM"
      }
    },
    {
      "cell_type": "code",
      "source": [
        "def treemap_plot(artist_or_genre, size_selection=10):\n",
        "\n",
        "  if(artist_or_genre == 'Hierarquia por Artista'):\n",
        "    fig = px.treemap(popular_music_rank[0:size_selection], path=['artist_name','track_name'],color='popularity', values ='popularity',title=\"Hierarquia das popularidades entre artistas\",hover_name='artist_name',width=900, height=700)\n",
        "  else:\n",
        "    fig = px.treemap(popular_music_rank[0:size_selection], path=['genre', 'artist_name'], values ='popularity',title=\"Participação de cada artista na popularidade de cada gênero musical\",hover_name='track_name',width=900, height=700)\n",
        "    #fig = px.treemap(popular_music_rank[0:size_selection], path=['genre'], values ='popularity',title=\"Hierarquia das popularidades entre artistas\",hover_name='genre',width=900, height=700)\n",
        "\n",
        "  fig.update_traces(root_color=\"lightgrey\")\n",
        "  fig.update_traces(legendgrouptitle_text=\"Músicas mais populares\")\n",
        "  fig.update_layout(margin = dict(t=50, l=25, r=25, b=25))\n",
        "  fig.update_layout(\n",
        "    font_family=\"Helvetica\",\n",
        "    font_color=\"black\",\n",
        "  )\n",
        "  fig.update_xaxes(title_font_family=\"Helvetica\")\n",
        "  fig.show()"
      ],
      "metadata": {
        "id": "P-tSHJMKpDbc"
      },
      "execution_count": 12,
      "outputs": []
    },
    {
      "cell_type": "code",
      "source": [
        "ipywidgets.interact(treemap_plot, artist_or_genre=widgets.Dropdown(options=['Hierarquia por Artista','Hierarquia por Gênero Musical'],description='Selecione:'), size_selection=ipywidgets.IntSlider(min=5, max=100,step=5,value=25,description=\"N° músicas\"))"
      ],
      "metadata": {
        "id": "wINjAjgwW_tE",
        "colab": {
          "base_uri": "https://localhost:8080/",
          "height": 798,
          "referenced_widgets": [
            "1eb25298df324a93b8d9a4404e6d4da2",
            "af680265c8e34cd490ac554b1ca5fef3",
            "5b94e6d8afe04162a8e324070e631b2b",
            "e4aaef90ce2744a18badb64a62f1287f",
            "90bdb300dd05406cadeb5c797853a572",
            "c3f08c55e6b14c93a275358043dae990",
            "58af1928efa54af28a81bb6d5763ced5",
            "e5d2819b4bbe4216a73013d243999c10",
            "a44d7c65ced0427693c951f520acdc67",
            "223851c69e8b44e8a0ba34080a950aca"
          ]
        },
        "outputId": "88c5f1af-4e5b-4742-9b3d-802c902a3ae5"
      },
      "execution_count": 13,
      "outputs": [
        {
          "output_type": "display_data",
          "data": {
            "text/plain": [
              "interactive(children=(Dropdown(description='Selecione:', options=('Hierarquia por Artista', 'Hierarquia por Gê…"
            ],
            "application/vnd.jupyter.widget-view+json": {
              "version_major": 2,
              "version_minor": 0,
              "model_id": "1eb25298df324a93b8d9a4404e6d4da2"
            }
          },
          "metadata": {}
        },
        {
          "output_type": "execute_result",
          "data": {
            "text/plain": [
              "<function __main__.treemap_plot(artist_or_genre, size_selection=10)>"
            ]
          },
          "metadata": {},
          "execution_count": 13
        }
      ]
    },
    {
      "cell_type": "markdown",
      "source": [
        "## Pré-processamento"
      ],
      "metadata": {
        "id": "C6yza2qpf9P3"
      }
    },
    {
      "cell_type": "markdown",
      "source": [
        "Para não selecionar artistas com apenas um single de sucesso (conhecidos como 'one hit'), trabalharemos com artistas que possuem 10 ou mais músicas populares para se ter como base artistas de sucesso mais consistentes."
      ],
      "metadata": {
        "id": "vBJvv64kFSV_"
      }
    },
    {
      "cell_type": "code",
      "source": [
        "vc = df['artist_name'].value_counts()  # contando quantas vezes cada artista aparece\n",
        "df = df[df['artist_name'].isin(vc.index[vc.gt(10)])]  # selecionando apenas aqueles que aparecem 10 vezes ou mais\n",
        "\n",
        "artist_count = df.groupby('artist_name')[['popularity']].count().sort_values(by='popularity', ascending=True)\n",
        "artist_sum = df.groupby('artist_name')[['popularity']].sum().sort_values(by='popularity', ascending=True)\n",
        "\n",
        "artist_rank = artist_sum.popularity / artist_count.popularity\n",
        "artist_rank = artist_rank.sort_values(ascending=False)\n",
        "artist_rank = pd.DataFrame(artist_rank).reset_index()\n",
        "\n",
        "print(artist_rank[:50])"
      ],
      "metadata": {
        "id": "zLrs3iHTq-o0",
        "colab": {
          "base_uri": "https://localhost:8080/"
        },
        "outputId": "79a4afbd-c9d2-4fb4-c0ea-7f8f71179102"
      },
      "execution_count": 14,
      "outputs": [
        {
          "output_type": "stream",
          "name": "stdout",
          "text": [
            "               artist_name  popularity\n",
            "0            Billie Eilish    0.805263\n",
            "1               Juice WRLD    0.751111\n",
            "2                   Khalid    0.750000\n",
            "3              Post Malone    0.747692\n",
            "4                   Offset    0.745000\n",
            "5                 Coldplay    0.737692\n",
            "6                  6ix9ine    0.729231\n",
            "7                Bad Bunny    0.728387\n",
            "8                 Lil Peep    0.725789\n",
            "9             Metro Boomin    0.725714\n",
            "10            XXXTENTACION    0.725192\n",
            "11              Ed Sheeran    0.721852\n",
            "12                    LANY    0.720000\n",
            "13        Hailee Steinfeld    0.719091\n",
            "14           Alec Benjamin    0.712308\n",
            "15           Ariana Grande    0.708219\n",
            "16                    Kygo    0.707778\n",
            "17            Travis Scott    0.700208\n",
            "18              Marshmello    0.696875\n",
            "19         Michael Jackson    0.695714\n",
            "20               21 Savage    0.691622\n",
            "21          Camila Cabello    0.688235\n",
            "22               Sam Smith    0.685882\n",
            "23           Manuel Turizo    0.684545\n",
            "24       Twenty One Pilots    0.681842\n",
            "25               Green Day    0.680000\n",
            "26                  Rels B    0.679091\n",
            "27                     BTS    0.678654\n",
            "28              Jonas Blue    0.674667\n",
            "29              Luis Fonsi    0.672632\n",
            "30       Chance the Rapper    0.671333\n",
            "31           Daniel Caesar    0.670667\n",
            "32                    Zedd    0.670000\n",
            "33            Trippie Redd    0.667805\n",
            "34            Shawn Mendes    0.667800\n",
            "35                 Cardi B    0.665769\n",
            "36                Lil Pump    0.664815\n",
            "37     My Chemical Romance    0.664118\n",
            "38                   Drake    0.660328\n",
            "39             Huncho Jack    0.660000\n",
            "40                Maroon 5    0.659565\n",
            "41                Ella Mai    0.657368\n",
            "42                   Quavo    0.655556\n",
            "43                Paramore    0.654615\n",
            "44            Zara Larsson    0.654444\n",
            "45                Dua Lipa    0.652273\n",
            "46                      NF    0.652222\n",
            "47  A Boogie Wit da Hoodie    0.651765\n",
            "48              Bruno Mars    0.651429\n",
            "49                    Lauv    0.650870\n"
          ]
        }
      ]
    },
    {
      "cell_type": "markdown",
      "source": [
        "Abaixo vamos selecionar apenas as músicas dos artistas acima e conhecer quais são suas características mais importantes."
      ],
      "metadata": {
        "id": "CQCivBqPQqRf"
      }
    },
    {
      "cell_type": "code",
      "source": [
        "top10_artistas = list(artist_rank['artist_name'][0:50])\n",
        "top10 = pd.DataFrame()\n",
        "\n",
        "for i in top10_artistas:\n",
        "  top10 = top10.append(df[df['artist_name'].str.match(i)],ignore_index=True)"
      ],
      "metadata": {
        "id": "r5pxDGz9vehE"
      },
      "execution_count": 15,
      "outputs": []
    },
    {
      "cell_type": "markdown",
      "source": [
        "As funções abaixo irão nos ajudar a plotar os gráficos que indicarão como são em média as músicas dos artistas mais populares do Spotify."
      ],
      "metadata": {
        "id": "GBoAAWCs4Jjt"
      }
    },
    {
      "cell_type": "code",
      "source": [
        "def artist_rank_calculator(feature : str):\n",
        "\n",
        "  artist_count = top10.groupby('artist_name')[[feature]].count().sort_values(by=feature, ascending=True)\n",
        "  artist_sum = top10.groupby('artist_name')[[feature]].sum().sort_values(by=feature, ascending=True)\n",
        "  artist_rank = artist_sum[feature] / artist_count[feature]\n",
        "  artist_rank = artist_rank.sort_values(ascending=False)\n",
        "  artist_rank = pd.DataFrame(artist_rank).reset_index()\n",
        "\n",
        "  return artist_rank"
      ],
      "metadata": {
        "id": "G0O9iMFb0qfn"
      },
      "execution_count": 16,
      "outputs": []
    },
    {
      "cell_type": "code",
      "source": [
        "def plot_artist_rank (number_of_artist=1,characterists='valence'):\n",
        "\n",
        "  ar = artist_rank_calculator(characterists)\n",
        "  feature = characterists\n",
        "  title = characterists\n",
        "  fig = px.bar(ar[0:number_of_artist].sort_values(by=feature, ascending=True), y=\"artist_name\", x=feature, color=feature, title=\"Artistas mais populares e seu \" + title + ' médio',orientation='h',width=900, height=700)\n",
        "  fig.update_layout(xaxis_range=[0,1])\n",
        "\n",
        "  fig.update_layout(\n",
        "      font_family=\"Helvetica\",\n",
        "      font_color=\"black\",\n",
        "      title_font_family=\"Helvetica\",\n",
        "      title_font_color=\"black\",\n",
        "      legend_title_font_color=\"black\"\n",
        "  )\n",
        "\n",
        "  fig.update_xaxes(title_font_family=\"Helvetica\")\n",
        "  fig.show()"
      ],
      "metadata": {
        "id": "SMx4eT9_1Ntj"
      },
      "execution_count": 17,
      "outputs": []
    },
    {
      "cell_type": "code",
      "source": [
        "lista_features = ['valence','acousticness','danceability','energy','liveness','speechiness','instrumentalness','loudness']"
      ],
      "metadata": {
        "id": "5Bfc7kGYjn_c"
      },
      "execution_count": 18,
      "outputs": []
    },
    {
      "cell_type": "code",
      "source": [
        "dd = widgets.Dropdown(\n",
        "    options=lista_features,\n",
        "    value='valence',\n",
        "    description='Atributo da Música',\n",
        "    disabled=False,\n",
        "    layout=Layout(width='30%', height='big')\n",
        ")"
      ],
      "metadata": {
        "id": "oCHRDzhAjIAh"
      },
      "execution_count": 19,
      "outputs": []
    },
    {
      "cell_type": "markdown",
      "source": [
        "## Gráfico de barras\n"
      ],
      "metadata": {
        "id": "dAMWtFPmO2mt"
      }
    },
    {
      "cell_type": "code",
      "source": [
        "#ipywidgets.interactive(plot_artist_rank, number_of_artist=ipywidgets.IntSlider(min=1,max=50,step=1,value=10,description='N° artistas'), characterists=dd)"
      ],
      "metadata": {
        "id": "mXXozFc2TxO9"
      },
      "execution_count": 20,
      "outputs": []
    },
    {
      "cell_type": "markdown",
      "source": [
        "## Radviz\n",
        "\n",
        "Temos aqui quatro eixos nos quais as músicas estarão dispostas para análise --- *energy, acousticness, danceability* e *popularity.*"
      ],
      "metadata": {
        "id": "osQLzhag5dFq"
      }
    },
    {
      "cell_type": "code",
      "source": [
        "def radviz_vs (genero_1 : str,genero_2 : str,genero_3 : str, number_of_music=150):\n",
        "  \n",
        "  fig = plt.figure( )\n",
        "  plt.figure(figsize=(15,10))\n",
        "  atributes = df[['acousticness','energy','danceability','popularity', 'genre']]\n",
        "  pd.plotting.radviz(atributes[atributes['genre'].isin([genero_1])][:number_of_music], 'genre',color=['blue'])\n",
        "  pd.plotting.radviz(atributes[atributes['genre'].isin([genero_2])][:number_of_music], 'genre',color=['red'])\n",
        "  pd.plotting.radviz(atributes[atributes['genre'].isin([genero_3])][:number_of_music], 'genre',color=['green'])\n",
        "  plt.title(\"Disposição das músicas dos gêneros \")\n",
        "  plt.legend( loc='upper right', fontsize='larger' )"
      ],
      "metadata": {
        "id": "wH2iKlz6XVF9"
      },
      "execution_count": 21,
      "outputs": []
    },
    {
      "cell_type": "code",
      "source": [
        "lista_generos = ['Genero 1','Genero 2','Genero 3']"
      ],
      "metadata": {
        "id": "bgFNI2M6ZFIz"
      },
      "execution_count": 22,
      "outputs": []
    },
    {
      "cell_type": "code",
      "source": [
        "genres=['Dance',\n",
        " 'Rap',\n",
        " 'Hip-Hop',\n",
        " 'Pop',\n",
        " 'Reggaeton',\n",
        " \"Children's Music\",\n",
        " 'Folk',\n",
        " 'Rock',\n",
        " 'Indie',\n",
        " 'Electronic',\n",
        " 'Alternative',\n",
        " 'Country',\n",
        " 'Soul',\n",
        " 'Blues',\n",
        " 'Jazz',\n",
        " 'Reggae',\n",
        " 'R&B',\n",
        " 'World',\n",
        " 'Soundtrack',\n",
        " 'Movie',\n",
        " 'Classical',\n",
        " 'Ska',\n",
        " 'Anime',\n",
        " 'Opera',\n",
        " 'Comedy',\n",
        " 'A Capella']"
      ],
      "metadata": {
        "id": "ARwcjOQtweYy"
      },
      "execution_count": 23,
      "outputs": []
    },
    {
      "cell_type": "code",
      "source": [
        "random.seed(10)\n",
        "dd = {description: widgets.Dropdown(\n",
        "    options=genres,\n",
        "    value=genres[random.randint(0,len(genres)-1)],\n",
        "    description=description,\n",
        "    disabled=False,\n",
        ") for description in lista_generos }"
      ],
      "metadata": {
        "id": "nBu5LYXIWdDa"
      },
      "execution_count": 24,
      "outputs": []
    },
    {
      "cell_type": "markdown",
      "source": [
        "Escolha o gênero musical e número de músicas a comparar:"
      ],
      "metadata": {
        "id": "isz_quQEEZhN"
      }
    },
    {
      "cell_type": "code",
      "source": [
        "#ipywidgets.interact(radviz_vs, genero_1=dd['Genero 1'] ,genero_2=dd['Genero 2'] ,genero_3=dd['Genero 3'],number_of_music=ipywidgets.IntSlider(min=0, max=1000,step=25,value=150,description=\"N° músicas\"))"
      ],
      "metadata": {
        "id": "lG37y815Wags"
      },
      "execution_count": 25,
      "outputs": []
    }
  ]
}