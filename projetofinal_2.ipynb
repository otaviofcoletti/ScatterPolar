{
  "nbformat": 4,
  "nbformat_minor": 0,
  "metadata": {
    "colab": {
      "provenance": []
    },
    "kernelspec": {
      "name": "python3",
      "display_name": "Python 3"
    },
    "language_info": {
      "name": "python"
    }
  },
  "cells": [
    {
      "cell_type": "markdown",
      "source": [
        "\n",
        "# Projeto 2 - SCC0252 (Visualização Computacional)\n",
        "\n",
        "\n",
        "*   Otávio Ferracioli Coletti - 11767796\n",
        "*   Fernando César Lopes Barbosa Filho - 10260559\n",
        "\n",
        "\\\\\n",
        "\n",
        "---"
      ],
      "metadata": {
        "id": "HMw6rO2PdUp9"
      }
    },
    {
      "cell_type": "code",
      "source": [
        "# Bibliotecas importadas\n",
        "import numpy as np\n",
        "import pandas as pd\n",
        "import seaborn as sns\n",
        "import plotly.express as px\n",
        "import ipywidgets as widgets\n",
        "from ipywidgets import Button, Layout\n",
        "from matplotlib.spines import rcParams\n",
        "import plotly.graph_objects as go\n",
        "import matplotlib.pyplot as plt\n",
        "from matplotlib import legend\n",
        "from pandas import Series\n",
        "import ipywidgets\n",
        "import random\n",
        "import plotly\n",
        "import io"
      ],
      "metadata": {
        "id": "fjz4DBFG-Zwa"
      },
      "execution_count": 26,
      "outputs": []
    },
    {
      "cell_type": "code",
      "source": [
        "# Conjunto de dados do Spotify\n",
        "url = 'https://raw.githubusercontent.com/otaviofcoletti/VIZCOMP/main/SpotifyFeatures(1).csv'\n",
        "df = pd.read_csv(url)"
      ],
      "metadata": {
        "id": "LzrmJrCo-tYO"
      },
      "execution_count": 27,
      "outputs": []
    },
    {
      "cell_type": "markdown",
      "source": [
        "## Heatmap\n",
        "\n",
        "Geramos um *heatmap* que exibe os valores de correlação entre os atributos de todas as músicas do Spotify.\n"
      ],
      "metadata": {
        "id": "T-EZV92Jrr85"
      }
    },
    {
      "cell_type": "code",
      "source": [
        "popular_music_rank = df.sort_values('popularity', ascending=False) "
      ],
      "metadata": {
        "id": "0T9xDSopHM0X"
      },
      "execution_count": 28,
      "outputs": []
    },
    {
      "cell_type": "code",
      "source": [
        "def heatmap_interactive(**ch_list):\n",
        "\n",
        "  categories = ['valence','acousticness','danceability','energy','liveness','speechiness','instrumentalness','loudness']\n",
        "  features = []\n",
        "\n",
        "  for i in categories:\n",
        "    if ch_list[i]:\n",
        "      features.append(i)\n",
        "\n",
        "  selection = df[features]\n",
        "  plt.figure(figsize=(15,10))\n",
        "  sns.heatmap(selection.corr(),annot=True,cmap=\"coolwarm\")\n",
        "  plt.title('Heatmap of Correlations')\n",
        "  plt.show()"
      ],
      "metadata": {
        "id": "jnrQzz9mwmWF"
      },
      "execution_count": 29,
      "outputs": []
    },
    {
      "cell_type": "code",
      "source": [
        "cb_list = {description: widgets.Checkbox(\n",
        "    value=random.choice([True, False]),\n",
        "    description=description,\n",
        "    disabled=False,\n",
        "    indent=False\n",
        ") for description in ['valence','acousticness','danceability','energy','liveness','speechiness','instrumentalness','loudness']}"
      ],
      "metadata": {
        "id": "RtwKObzERjcF"
      },
      "execution_count": 30,
      "outputs": []
    },
    {
      "cell_type": "markdown",
      "source": [
        "Selecione nos **checkboxes** as *features* nas quais se deseja comparar a correlação no **heatmap**:"
      ],
      "metadata": {
        "id": "6fbRk3q3NU2h"
      }
    },
    {
      "cell_type": "code",
      "source": [
        "#widgets.interactive(heatmap_interactive, **cb_list)"
      ],
      "metadata": {
        "id": "bo_eBQEAROoH"
      },
      "execution_count": null,
      "outputs": []
    },
    {
      "cell_type": "markdown",
      "source": [
        "## Gráfico de Radar\n",
        "\n",
        "Nesse tipo de visualização o usuário poderá selecionar quantas músicas se deseja analisar entre as mais populares, quais as *features* a serem os eixos e a respectiva ordem entre elas."
      ],
      "metadata": {
        "id": "45xcyBRsQSHc"
      }
    },
    {
      "cell_type": "code",
      "source": [
        "cinza = \"#808080\"\n",
        "transparente = \"rgba(0,0,0,0)\"\n",
        "\n",
        "def radar_chart_2(number_of_music=1,**dd_list):\n",
        "\n",
        "  top5 = popular_music_rank[:number_of_music]\n",
        "\n",
        "  lista_features = ['Feature 1','Feature 2','Feature 3','Feature 4','Feature 5','Feature 6','Feature 7','Feature 8']\n",
        "  categories = ['valence','acousticness','danceability','energy','liveness','speechiness','instrumentalness','loudness']\n",
        "  top5 = top5[['valence','acousticness','danceability','energy','liveness','speechiness','instrumentalness','loudness','track_name','artist_name']]\n",
        "  fig = go.Figure()\n",
        "  features = []\n",
        "\n",
        "  for i in lista_features:\n",
        "\n",
        "    if dd_list[i] != \"Nenhum\":\n",
        "      features.append(dd_list[i])\n",
        "  \n",
        "\n",
        "  for i in range(0,number_of_music):\n",
        "\n",
        "    fig.add_trace(go.Scatterpolar(\n",
        "          r=list(top5.iloc[i]),\n",
        "          theta=features,\n",
        "          fill='toself',\n",
        "          name= top5.iloc[i]['track_name'],\n",
        "          legendgrouptitle_text=\"Músicas mais populares\"\n",
        "    ))\n",
        "\n",
        "\n",
        "  fig.update_layout(\n",
        "        font_color=cinza,\n",
        "        font_size=15,\n",
        "        autosize=True,\n",
        "        height=400,\n",
        "        margin=dict(l=40, r=40, t=25, b=25),\n",
        "        paper_bgcolor=transparente,\n",
        "        polar=dict(\n",
        "            bgcolor=transparente,\n",
        "            radialaxis=dict(\n",
        "                range=[0, 1],\n",
        "                linecolor=cinza,\n",
        "                gridcolor=cinza,\n",
        "                tickcolor=cinza,\n",
        "            ),\n",
        "            angularaxis=dict(\n",
        "                rotation=120,\n",
        "                direction=\"clockwise\",\n",
        "                linecolor=cinza,\n",
        "                tickcolor=cinza,\n",
        "                gridcolor=cinza,\n",
        "            ),\n",
        "        ),\n",
        "    )\n",
        "  \n",
        "  fig.show()"
      ],
      "metadata": {
        "id": "jHMqtHmhdg5P"
      },
      "execution_count": 32,
      "outputs": []
    },
    {
      "cell_type": "code",
      "source": [
        "lista_features = ['Feature 1','Feature 2','Feature 3','Feature 4','Feature 5','Feature 6','Feature 7','Feature 8']"
      ],
      "metadata": {
        "id": "6rRjSMJ65t_V"
      },
      "execution_count": 33,
      "outputs": []
    },
    {
      "cell_type": "code",
      "source": [
        "charac=['valence','acousticness','danceability','energy','liveness','speechiness','instrumentalness','loudness','Nenhum']"
      ],
      "metadata": {
        "id": "jrHx61jO5t_X"
      },
      "execution_count": 34,
      "outputs": []
    },
    {
      "cell_type": "code",
      "source": [
        "index_list = [0,1,2,3,4,5,6,7,8]\n",
        "random.seed(117)\n",
        "\n",
        "dd_radar = {descri: widgets.Dropdown(\n",
        "    options=charac,\n",
        "    value=charac[index],\n",
        "    description=descri,\n",
        "    disabled=False,\n",
        ") for index,descri in zip(index_list,lista_features) }"
      ],
      "metadata": {
        "id": "XqHEtSqY5t_a"
      },
      "execution_count": 35,
      "outputs": []
    },
    {
      "cell_type": "markdown",
      "source": [
        "Através do gráfico de radar interativo podemos escolher quais as *features* musicais de interesse na análise, bem como escolher quantas e quais músicas comparar clicando na legenda associada. O usuário poderá escolher até 8 features, mas recomendamos entre 5 e 6 para facilitar a visualização."
      ],
      "metadata": {
        "id": "LQN4hs5bzaBh"
      }
    },
    {
      "cell_type": "code",
      "source": [
        "ipywidgets.interactive(radar_chart_2, number_of_music=ipywidgets.IntSlider(min=1,max=15,step=1,value=5),**dd_radar)"
      ],
      "metadata": {
        "id": "bmeCxLOT6sP2"
      },
      "execution_count": null,
      "outputs": []
    },
    {
      "cell_type": "markdown",
      "source": [
        "Podemos ver que, das músicas mais populares, todas possuem um *loudness* alto e uma *danceability* significativamente alta também. Notamos que, por exemplo, a acústica dessas músicas dificilmente ultrapassa 5. \\\\\n",
        "\n",
        "Portanto, para ter sucesso é preciso fazer barulho, fazer o pessoal dançar e usar bastante da eletrônica na sua música! \\\\\n"
      ],
      "metadata": {
        "id": "jND_2nqCz24j"
      }
    },
    {
      "cell_type": "markdown",
      "source": [
        "## Treemap\n",
        "\n",
        "Esse recurso nos permite visualizar a hierarquia de popularidade entre as diferentes músicas e artistas."
      ],
      "metadata": {
        "id": "rbDGwyVM5ZiM"
      }
    },
    {
      "cell_type": "code",
      "source": [
        "def treemap_plot(artist_or_genre, size_selection=10):\n",
        "\n",
        "  if(artist_or_genre == 'Hierarquia por Artista'):\n",
        "    fig = px.treemap(popular_music_rank[0:size_selection], path=['artist_name','track_name'],color='popularity', values ='popularity',title=\"Hierarquia das popularidades entre artistas\",hover_name='artist_name',width=900, height=700)\n",
        "  else:\n",
        "    fig = px.treemap(popular_music_rank[0:size_selection], path=['genre', 'artist_name'], values ='popularity',title=\"Participação de cada artista na popularidade de cada gênero musical\",hover_name='track_name',width=900, height=700)\n",
        "    #fig = px.treemap(popular_music_rank[0:size_selection], path=['genre'], values ='popularity',title=\"Hierarquia das popularidades entre artistas\",hover_name='genre',width=900, height=700)\n",
        "\n",
        "  fig.update_traces(root_color=\"lightgrey\")\n",
        "  fig.update_traces(legendgrouptitle_text=\"Músicas mais populares\")\n",
        "  fig.update_layout(margin = dict(t=50, l=25, r=25, b=25))\n",
        "  fig.update_layout(\n",
        "    font_family=\"Helvetica\",\n",
        "    font_color=\"black\",\n",
        "  )\n",
        "  fig.update_xaxes(title_font_family=\"Helvetica\")\n",
        "  fig.show()"
      ],
      "metadata": {
        "id": "P-tSHJMKpDbc"
      },
      "execution_count": 37,
      "outputs": []
    },
    {
      "cell_type": "code",
      "source": [
        "ipywidgets.interact(treemap_plot, artist_or_genre=widgets.Dropdown(options=['Hierarquia por Artista','Hierarquia por Gênero Musical'],description='Selecione:'), size_selection=ipywidgets.IntSlider(min=5, max=100,step=5,value=25,description=\"N° músicas\"))"
      ],
      "metadata": {
        "id": "wINjAjgwW_tE"
      },
      "execution_count": null,
      "outputs": []
    },
    {
      "cell_type": "markdown",
      "source": [
        "## Pré-processamento"
      ],
      "metadata": {
        "id": "C6yza2qpf9P3"
      }
    },
    {
      "cell_type": "markdown",
      "source": [
        "Para não selecionar artistas com apenas um single de sucesso (conhecidos como 'one hit'), trabalharemos com artistas que possuem 10 ou mais músicas populares para se ter como base artistas de sucesso mais consistentes."
      ],
      "metadata": {
        "id": "vBJvv64kFSV_"
      }
    },
    {
      "cell_type": "code",
      "source": [
        "vc = df['artist_name'].value_counts()  # contando quantas vezes cada artista aparece\n",
        "df = df[df['artist_name'].isin(vc.index[vc.gt(10)])]  # selecionando apenas aqueles que aparecem 10 vezes ou mais\n",
        "\n",
        "artist_count = df.groupby('artist_name')[['popularity']].count().sort_values(by='popularity', ascending=True)\n",
        "artist_sum = df.groupby('artist_name')[['popularity']].sum().sort_values(by='popularity', ascending=True)\n",
        "\n",
        "artist_rank = artist_sum.popularity / artist_count.popularity\n",
        "artist_rank = artist_rank.sort_values(ascending=False)\n",
        "artist_rank = pd.DataFrame(artist_rank).reset_index()\n",
        "\n",
        "print(artist_rank[:50])"
      ],
      "metadata": {
        "id": "zLrs3iHTq-o0"
      },
      "execution_count": null,
      "outputs": []
    },
    {
      "cell_type": "markdown",
      "source": [
        "Abaixo vamos selecionar apenas as músicas dos artistas acima e conhecer quais são suas características mais importantes."
      ],
      "metadata": {
        "id": "CQCivBqPQqRf"
      }
    },
    {
      "cell_type": "code",
      "source": [
        "top10_artistas = list(artist_rank['artist_name'][0:50])\n",
        "top10 = pd.DataFrame()\n",
        "\n",
        "for i in top10_artistas:\n",
        "  top10 = top10.append(df[df['artist_name'].str.match(i)],ignore_index=True)"
      ],
      "metadata": {
        "id": "r5pxDGz9vehE"
      },
      "execution_count": 40,
      "outputs": []
    },
    {
      "cell_type": "markdown",
      "source": [
        "As funções abaixo irão nos ajudar a plotar os gráficos que indicarão como são em média as músicas dos artistas mais populares do Spotify."
      ],
      "metadata": {
        "id": "GBoAAWCs4Jjt"
      }
    },
    {
      "cell_type": "code",
      "source": [
        "def artist_rank_calculator(feature : str):\n",
        "\n",
        "  artist_count = top10.groupby('artist_name')[[feature]].count().sort_values(by=feature, ascending=True)\n",
        "  artist_sum = top10.groupby('artist_name')[[feature]].sum().sort_values(by=feature, ascending=True)\n",
        "  artist_rank = artist_sum[feature] / artist_count[feature]\n",
        "  artist_rank = artist_rank.sort_values(ascending=False)\n",
        "  artist_rank = pd.DataFrame(artist_rank).reset_index()\n",
        "\n",
        "  return artist_rank"
      ],
      "metadata": {
        "id": "G0O9iMFb0qfn"
      },
      "execution_count": 41,
      "outputs": []
    },
    {
      "cell_type": "code",
      "source": [
        "def plot_artist_rank (number_of_artist=1,characterists='valence'):\n",
        "\n",
        "  ar = artist_rank_calculator(characterists)\n",
        "  feature = characterists\n",
        "  title = characterists\n",
        "  fig = px.bar(ar[0:number_of_artist].sort_values(by=feature, ascending=True), y=\"artist_name\", x=feature, color=feature, title=\"Artistas mais populares e seu \" + title + ' médio',orientation='h',width=900, height=700)\n",
        "  fig.update_layout(xaxis_range=[0,1])\n",
        "\n",
        "  fig.update_layout(\n",
        "      font_family=\"Helvetica\",\n",
        "      font_color=\"black\",\n",
        "      title_font_family=\"Helvetica\",\n",
        "      title_font_color=\"black\",\n",
        "      legend_title_font_color=\"black\"\n",
        "  )\n",
        "\n",
        "  fig.update_xaxes(title_font_family=\"Helvetica\")\n",
        "  fig.show()"
      ],
      "metadata": {
        "id": "SMx4eT9_1Ntj"
      },
      "execution_count": 42,
      "outputs": []
    },
    {
      "cell_type": "code",
      "source": [
        "lista_features = ['valence','acousticness','danceability','energy','liveness','speechiness','instrumentalness','loudness']"
      ],
      "metadata": {
        "id": "5Bfc7kGYjn_c"
      },
      "execution_count": 43,
      "outputs": []
    },
    {
      "cell_type": "code",
      "source": [
        "dd = widgets.Dropdown(\n",
        "    options=lista_features,\n",
        "    value='valence',\n",
        "    description='Atributo da Música',\n",
        "    disabled=False,\n",
        "    layout=Layout(width='30%', height='big')\n",
        ")"
      ],
      "metadata": {
        "id": "oCHRDzhAjIAh"
      },
      "execution_count": 44,
      "outputs": []
    },
    {
      "cell_type": "markdown",
      "source": [
        "## Gráfico de barras\n"
      ],
      "metadata": {
        "id": "dAMWtFPmO2mt"
      }
    },
    {
      "cell_type": "code",
      "source": [
        "#ipywidgets.interactive(plot_artist_rank, number_of_artist=ipywidgets.IntSlider(min=1,max=50,step=1,value=10,description='N° artistas'), characterists=dd)"
      ],
      "metadata": {
        "id": "mXXozFc2TxO9"
      },
      "execution_count": 45,
      "outputs": []
    },
    {
      "cell_type": "markdown",
      "source": [
        "## Radviz\n",
        "\n",
        "Temos aqui quatro eixos nos quais as músicas estarão dispostas para análise --- *energy, acousticness, danceability* e *popularity.*"
      ],
      "metadata": {
        "id": "osQLzhag5dFq"
      }
    },
    {
      "cell_type": "code",
      "source": [
        "def radviz_vs (genero_1 : str,genero_2 : str,genero_3 : str, number_of_music=150):\n",
        "  \n",
        "  fig = plt.figure( )\n",
        "  plt.figure(figsize=(15,10))\n",
        "  atributes = df[['acousticness','energy','danceability','popularity', 'genre']]\n",
        "  pd.plotting.radviz(atributes[atributes['genre'].isin([genero_1])][:number_of_music], 'genre',color=['blue'])\n",
        "  pd.plotting.radviz(atributes[atributes['genre'].isin([genero_2])][:number_of_music], 'genre',color=['red'])\n",
        "  pd.plotting.radviz(atributes[atributes['genre'].isin([genero_3])][:number_of_music], 'genre',color=['green'])\n",
        "  plt.title(\"Disposição das músicas dos gêneros \")\n",
        "  plt.legend( loc='upper right', fontsize='larger' )"
      ],
      "metadata": {
        "id": "wH2iKlz6XVF9"
      },
      "execution_count": 46,
      "outputs": []
    },
    {
      "cell_type": "code",
      "source": [
        "lista_generos = ['Genero 1','Genero 2','Genero 3']"
      ],
      "metadata": {
        "id": "bgFNI2M6ZFIz"
      },
      "execution_count": 47,
      "outputs": []
    },
    {
      "cell_type": "code",
      "source": [
        "genres=['Dance',\n",
        " 'Rap',\n",
        " 'Hip-Hop',\n",
        " 'Pop',\n",
        " 'Reggaeton',\n",
        " \"Children's Music\",\n",
        " 'Folk',\n",
        " 'Rock',\n",
        " 'Indie',\n",
        " 'Electronic',\n",
        " 'Alternative',\n",
        " 'Country',\n",
        " 'Soul',\n",
        " 'Blues',\n",
        " 'Jazz',\n",
        " 'Reggae',\n",
        " 'R&B',\n",
        " 'World',\n",
        " 'Soundtrack',\n",
        " 'Movie',\n",
        " 'Classical',\n",
        " 'Ska',\n",
        " 'Anime',\n",
        " 'Opera',\n",
        " 'Comedy',\n",
        " 'A Capella']"
      ],
      "metadata": {
        "id": "ARwcjOQtweYy"
      },
      "execution_count": 48,
      "outputs": []
    },
    {
      "cell_type": "code",
      "source": [
        "random.seed(10)\n",
        "dd = {description: widgets.Dropdown(\n",
        "    options=genres,\n",
        "    value=genres[random.randint(0,len(genres)-1)],\n",
        "    description=description,\n",
        "    disabled=False,\n",
        ") for description in lista_generos }"
      ],
      "metadata": {
        "id": "nBu5LYXIWdDa"
      },
      "execution_count": 49,
      "outputs": []
    },
    {
      "cell_type": "markdown",
      "source": [
        "Escolha o gênero musical e número de músicas a comparar:"
      ],
      "metadata": {
        "id": "isz_quQEEZhN"
      }
    },
    {
      "cell_type": "code",
      "source": [
        "#ipywidgets.interact(radviz_vs, genero_1=dd['Genero 1'] ,genero_2=dd['Genero 2'] ,genero_3=dd['Genero 3'],number_of_music=ipywidgets.IntSlider(min=0, max=1000,step=25,value=150,description=\"N° músicas\"))"
      ],
      "metadata": {
        "id": "lG37y815Wags"
      },
      "execution_count": 50,
      "outputs": []
    }
  ]
}